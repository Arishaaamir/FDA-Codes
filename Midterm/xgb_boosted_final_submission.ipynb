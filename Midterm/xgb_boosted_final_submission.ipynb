{
  "nbformat": 4,
  "nbformat_minor": 0,
  "metadata": {
    "colab": {
      "provenance": []
    },
    "kernelspec": {
      "name": "python3",
      "display_name": "Python 3"
    },
    "language_info": {
      "name": "python"
    }
  },
  "cells": [
    {
      "cell_type": "code",
      "source": [
        "# 1. Import Libraries\n",
        "import pandas as pd\n",
        "import numpy as np\n",
        "from sklearn.impute import SimpleImputer\n",
        "from sklearn.preprocessing import StandardScaler\n",
        "from sklearn.model_selection import train_test_split\n",
        "from sklearn.metrics import classification_report, roc_auc_score\n",
        "from xgboost import XGBClassifier\n",
        "\n",
        "# 2. Load data (updated file paths)\n",
        "train_df = pd.read_csv('/content/fda_trainingset.csv')\n",
        "test_df = pd.read_csv('/content/fda_testset.csv')\n",
        "\n",
        "# 3. Setup features and target\n",
        "X = train_df.drop(columns=['ID', 'Y'])  # Clean: drop ID and label\n",
        "y = train_df['Y'].astype(int)           # Ensure integer labels\n",
        "\n",
        "\n",
        "# 4. Combine for preprocessing\n",
        "combined = pd.concat([X, test_df], axis=0)\n",
        "\n",
        "# 5. Impute missing values\n",
        "imputer = SimpleImputer(strategy='median')\n",
        "combined_imputed = pd.DataFrame(imputer.fit_transform(combined), columns=combined.columns)\n",
        "\n",
        "# 6. Feature Engineering\n",
        "combined_imputed['feature_sum'] = combined_imputed.sum(axis=1)\n",
        "combined_imputed['feature_mean'] = combined_imputed.mean(axis=1)\n",
        "combined_imputed['feature_std'] = combined_imputed.std(axis=1)\n",
        "combined_imputed['non_zero_count'] = (combined_imputed != 0).sum(axis=1)\n",
        "combined_imputed['max_min_ratio'] = combined_imputed.max(axis=1) / (combined_imputed.min(axis=1) + 1e-6)\n",
        "\n",
        "# 7. Standardization\n",
        "scaler = StandardScaler()\n",
        "combined_scaled = pd.DataFrame(scaler.fit_transform(combined_imputed), columns=combined_imputed.columns)\n",
        "\n",
        "# 8. Split processed back\n",
        "X_processed = combined_scaled.iloc[:len(X)]\n",
        "test_processed = combined_scaled.iloc[len(X):]\n",
        "test_ids = test_df['ID']\n",
        "\n",
        "# 9. Train-validation split\n",
        "X_train, X_val, y_train, y_val = train_test_split(X_processed, y, test_size=0.25, random_state=42, stratify=y)\n",
        "\n",
        "# 10. Updated model with eval_metric in constructor\n",
        "model_v4 = XGBClassifier(\n",
        "    n_estimators=1000,\n",
        "    learning_rate=0.02,\n",
        "    max_depth=6,\n",
        "    subsample=0.9,\n",
        "    colsample_bytree=0.8,\n",
        "    gamma=0.4,\n",
        "    reg_alpha=1.0,\n",
        "    reg_lambda=2.0,\n",
        "    scale_pos_weight=10,\n",
        "    tree_method='hist',\n",
        "    eval_metric='auc',        # <-- Put eval_metric here\n",
        "    random_state=42\n",
        ")\n",
        "\n",
        "# 11. Safe .fit() (no eval_metric here)\n",
        "model_v4.fit(\n",
        "    X_train, y_train,\n",
        "    eval_set=[(X_val, y_val)],\n",
        "    verbose=100\n",
        ")\n",
        "\n",
        "\n",
        "# 12. Evaluate\n",
        "y_pred_v4 = model_v4.predict(X_val)\n",
        "y_proba_v4 = model_v4.predict_proba(X_val)[:, 1]\n",
        "\n",
        "print(\"Classification Report:\\n\", classification_report(y_val, y_pred_v4))\n",
        "print(\"AUC-ROC Score:\", roc_auc_score(y_val, y_proba_v4))\n",
        "\n",
        "# 13. Predict on test set\n",
        "test_predictions_v4 = model_v4.predict_proba(test_processed)[:, 1]\n",
        "\n",
        "# 14. Create submission\n",
        "submission_v4 = pd.DataFrame({\n",
        "    'ID': test_ids,\n",
        "    'Y': test_predictions_v4\n",
        "})\n",
        "\n",
        "submission_path = '/content/xgb_boosted_final_submission.csv'\n",
        "submission_v4.to_csv(submission_path, index=False)\n",
        "print(\"✅ Saved final submission to:\", submission_path)\n",
        "\n",
        "# 15. Auto download\n",
        "from google.colab import files\n",
        "files.download(submission_path)\n"
      ],
      "metadata": {
        "colab": {
          "base_uri": "https://localhost:8080/",
          "height": 408
        },
        "id": "VEeG6rbca28c",
        "outputId": "55788dbb-ac06-47a6-8acf-ec46e0f222c3"
      },
      "execution_count": 6,
      "outputs": [
        {
          "output_type": "stream",
          "name": "stdout",
          "text": [
            "[0]\tvalidation_0-auc:0.81642\n",
            "[100]\tvalidation_0-auc:0.92050\n",
            "[200]\tvalidation_0-auc:0.93909\n",
            "[300]\tvalidation_0-auc:0.94417\n",
            "[400]\tvalidation_0-auc:0.94649\n",
            "[500]\tvalidation_0-auc:0.94814\n",
            "[600]\tvalidation_0-auc:0.94902\n",
            "[700]\tvalidation_0-auc:0.94993\n",
            "[800]\tvalidation_0-auc:0.95087\n",
            "[900]\tvalidation_0-auc:0.95085\n",
            "[999]\tvalidation_0-auc:0.95088\n",
            "Classification Report:\n",
            "               precision    recall  f1-score   support\n",
            "\n",
            "           0       1.00      1.00      1.00     49869\n",
            "           1       0.64      0.12      0.21       131\n",
            "\n",
            "    accuracy                           1.00     50000\n",
            "   macro avg       0.82      0.56      0.60     50000\n",
            "weighted avg       1.00      1.00      1.00     50000\n",
            "\n",
            "AUC-ROC Score: 0.9508824570757063\n",
            "✅ Saved final submission to: /content/xgb_boosted_final_submission.csv\n"
          ]
        },
        {
          "output_type": "display_data",
          "data": {
            "text/plain": [
              "<IPython.core.display.Javascript object>"
            ],
            "application/javascript": [
              "\n",
              "    async function download(id, filename, size) {\n",
              "      if (!google.colab.kernel.accessAllowed) {\n",
              "        return;\n",
              "      }\n",
              "      const div = document.createElement('div');\n",
              "      const label = document.createElement('label');\n",
              "      label.textContent = `Downloading \"${filename}\": `;\n",
              "      div.appendChild(label);\n",
              "      const progress = document.createElement('progress');\n",
              "      progress.max = size;\n",
              "      div.appendChild(progress);\n",
              "      document.body.appendChild(div);\n",
              "\n",
              "      const buffers = [];\n",
              "      let downloaded = 0;\n",
              "\n",
              "      const channel = await google.colab.kernel.comms.open(id);\n",
              "      // Send a message to notify the kernel that we're ready.\n",
              "      channel.send({})\n",
              "\n",
              "      for await (const message of channel.messages) {\n",
              "        // Send a message to notify the kernel that we're ready.\n",
              "        channel.send({})\n",
              "        if (message.buffers) {\n",
              "          for (const buffer of message.buffers) {\n",
              "            buffers.push(buffer);\n",
              "            downloaded += buffer.byteLength;\n",
              "            progress.value = downloaded;\n",
              "          }\n",
              "        }\n",
              "      }\n",
              "      const blob = new Blob(buffers, {type: 'application/binary'});\n",
              "      const a = document.createElement('a');\n",
              "      a.href = window.URL.createObjectURL(blob);\n",
              "      a.download = filename;\n",
              "      div.appendChild(a);\n",
              "      a.click();\n",
              "      div.remove();\n",
              "    }\n",
              "  "
            ]
          },
          "metadata": {}
        },
        {
          "output_type": "display_data",
          "data": {
            "text/plain": [
              "<IPython.core.display.Javascript object>"
            ],
            "application/javascript": [
              "download(\"download_e60cb005-53ca-4a0c-b0a5-a7f9c348bd02\", \"xgb_boosted_final_submission.csv\", 943395)"
            ]
          },
          "metadata": {}
        }
      ]
    }
  ]
}